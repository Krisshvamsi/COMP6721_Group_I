{
  "cells": [
    {
      "cell_type": "markdown",
      "metadata": {
        "id": "IeTAdIkmt7mP"
      },
      "source": [
        "Alexnet-Frieburg dataset"
      ]
    },
    {
      "cell_type": "code",
      "execution_count": null,
      "metadata": {
        "id": "UUJKTyDodEu9"
      },
      "outputs": [],
      "source": [
        "import torch\n",
        "import torchvision.transforms as transforms\n",
        "import torchvision.datasets as datasets\n",
        "import torch.utils.data as td\n",
        "import numpy as np\n",
        "import matplotlib.pyplot as plt\n",
        "import torch.nn as nn\n",
        "import torch.nn.functional as F\n",
        "from matplotlib import image\n",
        "from matplotlib import pyplot\n",
        "import time\n",
        "import torch.optim as optim"
      ]
    },
    {
      "cell_type": "code",
      "execution_count": null,
      "metadata": {
        "id": "wC4y1eWYdPe_"
      },
      "outputs": [],
      "source": [
        "def load_data(path, test_split, val_split, batch_size, input_size):\n",
        "    \n",
        "    transform_dict={'src':transforms.Compose([transforms.RandomHorizontalFlip(),transforms.ToTensor(),transforms.Normalize(mean=[0.485, 0.456, 0.406], std=[0.229, 0.224, 0.225])])}\n",
        "    \n",
        "    data1 = datasets.ImageFolder(root=path,transform=transform_dict['src'])\n",
        "    test_size=int(len(data1)*test_split)\n",
        "    val_size=int(len(data1)*val_split)\n",
        "    train_size=len(data1)-val_size-test_size\n",
        "    train_dataset,test_dataset,val_dataset=td.random_split(data1,[train_size,test_size,val_size])\n",
        "    data_loader_train=td.DataLoader(train_dataset,batch_size=batch_size,shuffle=True,drop_last=False,num_workers=0)\n",
        "    data_loader_test=td.DataLoader(test_dataset,batch_size=batch_size,shuffle=True,drop_last=False,num_workers=0)\n",
        "    data_loader_val=td.DataLoader(val_dataset,batch_size=batch_size,shuffle=True,drop_last=False,num_workers=0)  \n",
        "    return data_loader_train, data_loader_test, data_loader_val"
      ]
    },
    {
      "cell_type": "code",
      "execution_count": null,
      "metadata": {
        "colab": {
          "base_uri": "https://localhost:8080/"
        },
        "id": "Opji7zrXdSJ9",
        "outputId": "58b298ba-c028-4883-c0fb-c9659126adec"
      },
      "outputs": [
        {
          "output_type": "stream",
          "name": "stdout",
          "text": [
            "Mounted at /content/drive\n"
          ]
        }
      ],
      "source": [
        "from google.colab import drive\n",
        "drive.mount('/content/drive')"
      ]
    },
    {
      "cell_type": "code",
      "execution_count": null,
      "metadata": {
        "id": "Bpf7jD7YdYGg"
      },
      "outputs": [],
      "source": [
        "train_loader,test_loader,val_loader=load_data(path=r'/content/drive/MyDrive/Project/Dataset/freiburg_dataset', \n",
        "                                              test_split=0.2,val_split= 0.2,batch_size=32, input_size=[256,256])"
      ]
    },
    {
      "cell_type": "code",
      "execution_count": null,
      "metadata": {
        "colab": {
          "base_uri": "https://localhost:8080/"
        },
        "id": "yn67p6xlhG2n",
        "outputId": "0d18b00a-7bab-4cf2-c089-d0827ccc34ad"
      },
      "outputs": [
        {
          "output_type": "stream",
          "name": "stderr",
          "text": [
            "Using cache found in /root/.cache/torch/hub/pytorch_vision_v0.10.0\n"
          ]
        }
      ],
      "source": [
        "model = torch.hub.load('pytorch/vision:v0.10.0', 'alexnet')\n",
        "optimizer = torch.optim.Adam(model.parameters())\n",
        "criterion = nn.CrossEntropyLoss()"
      ]
    },
    {
      "cell_type": "code",
      "execution_count": null,
      "metadata": {
        "id": "pVdPBkbCiG09"
      },
      "outputs": [],
      "source": [
        "def train( model, train_loader,val_loader, criterion, optimizer,num_epochs):\n",
        "      device = torch.device(\"cuda:0\" if torch.cuda.is_available() else \"cpu\")\n",
        "      print(\"Device: {}\".format(device))\n",
        "      model.to(device)\n",
        "      total_steps = len(train_loader)\n",
        "      t1 = time.time()\n",
        "      accuracy1 = []\n",
        "      loss1 = []\n",
        "      val_acc=[]\n",
        "      val_loss=[]\n",
        "      for epoch in range(num_epochs):\n",
        "          accu = 0\n",
        "          lss = 0\n",
        "          val_accu=0\n",
        "          valid_loss=0\n",
        "          for i,data in enumerate(train_loader):\n",
        "              images, labels = data[0].to(device), data[1].to(device)\n",
        "              # Forward pass\n",
        "              outputs = model(images)\n",
        "              loss = criterion(outputs, labels)\n",
        "              # Backprop and optimisation\n",
        "              optimizer.zero_grad()\n",
        "              loss.backward()\n",
        "              optimizer.step()\n",
        "              # Train accuracy\n",
        "              total = labels.size(0)\n",
        "              _,predicted = torch.max(outputs.data, 1)\n",
        "              correct = (predicted == labels).sum().item()\n",
        "              accu += (correct / total) * 100\n",
        "              lss += loss.item()\n",
        "          model.eval()  \n",
        "          for i, data in enumerate(val_loader):\n",
        "              val_images, val_labels = data[0].to(device), data[1].to(device)\n",
        "              outputs = model(val_images)\n",
        "              loss = criterion(outputs, val_labels)\n",
        "              # Val accuracy\n",
        "              total = val_labels.size(0)\n",
        "              _,predicted = torch.max(outputs.data, 1)\n",
        "              correct = (predicted == val_labels).sum().item()\n",
        "              val_accu += (correct / total) * 100\n",
        "              valid_loss += loss.item()\n",
        "          val_acc.append(val_accu/len(val_loader))\n",
        "          val_loss.append(valid_loss/len(val_loader))\n",
        "          accuracy1.append(accu/len(train_loader))\n",
        "          loss1.append(lss/len(train_loader))\n",
        "          \n",
        "          print('Epoch [{}/{}], Loss: {:.4f}, Accuracy: {:.2f}%, Validation Loss : {:.4f}, Validation Accuracy : {:.2f}%,'.format(epoch + 1, num_epochs,lss/len(train_loader) ,accu/len(train_loader), valid_loss/len(val_loader), val_accu/len(val_loader)))\n",
        "      print(\"######## Training Finished in {} seconds ###########\".format(time.time()-t1))\n",
        "      return model, accuracy1, loss1,val_acc,val_loss"
      ]
    },
    {
      "cell_type": "code",
      "execution_count": null,
      "metadata": {
        "colab": {
          "base_uri": "https://localhost:8080/",
          "height": 866
        },
        "id": "fe6FsHC-jJon",
        "outputId": "51e146ef-61f9-46ea-900a-bcc8ceab75de"
      },
      "outputs": [
        {
          "output_type": "stream",
          "name": "stdout",
          "text": [
            "Device: cuda:0\n",
            "Epoch [1/50], Loss: 3.6160, Accuracy: 6.81%, Validation Loss : 2.9530, Validation Accuracy : 6.69%,\n",
            "Epoch [2/50], Loss: 2.9619, Accuracy: 7.70%, Validation Loss : 2.9590, Validation Accuracy : 8.95%,\n",
            "Epoch [3/50], Loss: 2.9369, Accuracy: 7.84%, Validation Loss : 2.9192, Validation Accuracy : 6.69%,\n",
            "Epoch [4/50], Loss: 2.9159, Accuracy: 7.56%, Validation Loss : 2.9561, Validation Accuracy : 8.97%,\n",
            "Epoch [5/50], Loss: 2.9222, Accuracy: 9.98%, Validation Loss : 2.9150, Validation Accuracy : 8.95%,\n",
            "Epoch [6/50], Loss: 2.9246, Accuracy: 8.77%, Validation Loss : 2.9108, Validation Accuracy : 8.95%,\n",
            "Epoch [7/50], Loss: 2.9224, Accuracy: 8.72%, Validation Loss : 2.8977, Validation Accuracy : 7.11%,\n",
            "Epoch [8/50], Loss: 2.9227, Accuracy: 8.12%, Validation Loss : 2.9135, Validation Accuracy : 8.96%,\n",
            "Epoch [9/50], Loss: 2.9295, Accuracy: 6.95%, Validation Loss : 2.9068, Validation Accuracy : 8.96%,\n",
            "Epoch [10/50], Loss: 2.9174, Accuracy: 7.42%, Validation Loss : 2.9129, Validation Accuracy : 8.95%,\n",
            "Epoch [11/50], Loss: 2.9127, Accuracy: 8.58%, Validation Loss : 2.9089, Validation Accuracy : 8.95%,\n",
            "Epoch [12/50], Loss: 2.9126, Accuracy: 8.44%, Validation Loss : 2.9088, Validation Accuracy : 8.96%,\n",
            "Epoch [13/50], Loss: 2.9120, Accuracy: 8.68%, Validation Loss : 2.9138, Validation Accuracy : 8.95%,\n",
            "Epoch [14/50], Loss: 2.9073, Accuracy: 8.16%, Validation Loss : 2.9077, Validation Accuracy : 8.97%,\n",
            "Epoch [15/50], Loss: 2.9073, Accuracy: 7.65%, Validation Loss : 2.9025, Validation Accuracy : 8.95%,\n",
            "Epoch [16/50], Loss: 2.9102, Accuracy: 7.84%, Validation Loss : 2.9147, Validation Accuracy : 8.97%,\n",
            "Epoch [17/50], Loss: 2.9125, Accuracy: 9.24%, Validation Loss : 2.9080, Validation Accuracy : 7.13%,\n",
            "Epoch [18/50], Loss: 2.9151, Accuracy: 8.58%, Validation Loss : 2.9044, Validation Accuracy : 8.96%,\n",
            "Epoch [19/50], Loss: 2.9034, Accuracy: 9.38%, Validation Loss : 2.9052, Validation Accuracy : 7.11%,\n",
            "Epoch [20/50], Loss: 2.9082, Accuracy: 8.02%, Validation Loss : 2.9064, Validation Accuracy : 8.96%,\n",
            "Epoch [21/50], Loss: 2.9089, Accuracy: 8.68%, Validation Loss : 2.9018, Validation Accuracy : 8.97%,\n",
            "Epoch [22/50], Loss: 2.9068, Accuracy: 8.82%, Validation Loss : 2.9089, Validation Accuracy : 8.96%,\n",
            "Epoch [23/50], Loss: 2.9043, Accuracy: 9.24%, Validation Loss : 2.9067, Validation Accuracy : 8.96%,\n",
            "Epoch [24/50], Loss: 2.9055, Accuracy: 9.24%, Validation Loss : 2.9064, Validation Accuracy : 8.97%,\n",
            "Epoch [25/50], Loss: 2.9008, Accuracy: 9.24%, Validation Loss : 2.9015, Validation Accuracy : 8.95%,\n",
            "Epoch [26/50], Loss: 2.9080, Accuracy: 8.86%, Validation Loss : 2.9017, Validation Accuracy : 8.96%,\n",
            "Epoch [27/50], Loss: 2.9063, Accuracy: 9.24%, Validation Loss : 2.9066, Validation Accuracy : 8.96%,\n",
            "Epoch [28/50], Loss: 2.8985, Accuracy: 9.24%, Validation Loss : 2.9026, Validation Accuracy : 8.98%,\n",
            "Epoch [29/50], Loss: 2.8981, Accuracy: 8.30%, Validation Loss : 2.9064, Validation Accuracy : 8.95%,\n",
            "Epoch [30/50], Loss: 2.9006, Accuracy: 8.40%, Validation Loss : 2.9030, Validation Accuracy : 8.97%,\n",
            "Epoch [31/50], Loss: 2.9067, Accuracy: 9.24%, Validation Loss : 2.9017, Validation Accuracy : 8.95%,\n"
          ]
        },
        {
          "output_type": "error",
          "ename": "KeyboardInterrupt",
          "evalue": "ignored",
          "traceback": [
            "\u001b[0;31m---------------------------------------------------------------------------\u001b[0m",
            "\u001b[0;31mKeyboardInterrupt\u001b[0m                         Traceback (most recent call last)",
            "\u001b[0;32m<ipython-input-11-b89f87e8cc60>\u001b[0m in \u001b[0;36m<module>\u001b[0;34m\u001b[0m\n\u001b[0;32m----> 1\u001b[0;31m \u001b[0mmodel\u001b[0m\u001b[0;34m,\u001b[0m\u001b[0maccuracy1\u001b[0m\u001b[0;34m,\u001b[0m\u001b[0mloss1\u001b[0m\u001b[0;34m,\u001b[0m \u001b[0mval_acc1\u001b[0m\u001b[0;34m,\u001b[0m \u001b[0mval_loss1\u001b[0m\u001b[0;34m=\u001b[0m\u001b[0mtrain\u001b[0m\u001b[0;34m(\u001b[0m \u001b[0mmodel\u001b[0m\u001b[0;34m,\u001b[0m \u001b[0mtrain_loader\u001b[0m\u001b[0;34m,\u001b[0m \u001b[0mval_loader\u001b[0m\u001b[0;34m,\u001b[0m \u001b[0mcriterion\u001b[0m\u001b[0;34m,\u001b[0m \u001b[0moptimizer\u001b[0m\u001b[0;34m,\u001b[0m\u001b[0mnum_epochs\u001b[0m\u001b[0;34m=\u001b[0m\u001b[0;36m50\u001b[0m\u001b[0;34m)\u001b[0m\u001b[0;34m\u001b[0m\u001b[0;34m\u001b[0m\u001b[0m\n\u001b[0m",
            "\u001b[0;32m<ipython-input-10-e3d785ce91c5>\u001b[0m in \u001b[0;36mtrain\u001b[0;34m(model, train_loader, val_loader, criterion, optimizer, num_epochs)\u001b[0m\n\u001b[1;32m     14\u001b[0m           \u001b[0mval_accu\u001b[0m\u001b[0;34m=\u001b[0m\u001b[0;36m0\u001b[0m\u001b[0;34m\u001b[0m\u001b[0;34m\u001b[0m\u001b[0m\n\u001b[1;32m     15\u001b[0m           \u001b[0mvalid_loss\u001b[0m\u001b[0;34m=\u001b[0m\u001b[0;36m0\u001b[0m\u001b[0;34m\u001b[0m\u001b[0;34m\u001b[0m\u001b[0m\n\u001b[0;32m---> 16\u001b[0;31m           \u001b[0;32mfor\u001b[0m \u001b[0mi\u001b[0m\u001b[0;34m,\u001b[0m\u001b[0mdata\u001b[0m \u001b[0;32min\u001b[0m \u001b[0menumerate\u001b[0m\u001b[0;34m(\u001b[0m\u001b[0mtrain_loader\u001b[0m\u001b[0;34m)\u001b[0m\u001b[0;34m:\u001b[0m\u001b[0;34m\u001b[0m\u001b[0;34m\u001b[0m\u001b[0m\n\u001b[0m\u001b[1;32m     17\u001b[0m               \u001b[0mimages\u001b[0m\u001b[0;34m,\u001b[0m \u001b[0mlabels\u001b[0m \u001b[0;34m=\u001b[0m \u001b[0mdata\u001b[0m\u001b[0;34m[\u001b[0m\u001b[0;36m0\u001b[0m\u001b[0;34m]\u001b[0m\u001b[0;34m.\u001b[0m\u001b[0mto\u001b[0m\u001b[0;34m(\u001b[0m\u001b[0mdevice\u001b[0m\u001b[0;34m)\u001b[0m\u001b[0;34m,\u001b[0m \u001b[0mdata\u001b[0m\u001b[0;34m[\u001b[0m\u001b[0;36m1\u001b[0m\u001b[0;34m]\u001b[0m\u001b[0;34m.\u001b[0m\u001b[0mto\u001b[0m\u001b[0;34m(\u001b[0m\u001b[0mdevice\u001b[0m\u001b[0;34m)\u001b[0m\u001b[0;34m\u001b[0m\u001b[0;34m\u001b[0m\u001b[0m\n\u001b[1;32m     18\u001b[0m               \u001b[0;31m# Forward pass\u001b[0m\u001b[0;34m\u001b[0m\u001b[0;34m\u001b[0m\u001b[0;34m\u001b[0m\u001b[0m\n",
            "\u001b[0;32m/usr/local/lib/python3.8/dist-packages/torch/utils/data/dataloader.py\u001b[0m in \u001b[0;36m__next__\u001b[0;34m(self)\u001b[0m\n\u001b[1;32m    679\u001b[0m                 \u001b[0;31m# TODO(https://github.com/pytorch/pytorch/issues/76750)\u001b[0m\u001b[0;34m\u001b[0m\u001b[0;34m\u001b[0m\u001b[0;34m\u001b[0m\u001b[0m\n\u001b[1;32m    680\u001b[0m                 \u001b[0mself\u001b[0m\u001b[0;34m.\u001b[0m\u001b[0m_reset\u001b[0m\u001b[0;34m(\u001b[0m\u001b[0;34m)\u001b[0m  \u001b[0;31m# type: ignore[call-arg]\u001b[0m\u001b[0;34m\u001b[0m\u001b[0;34m\u001b[0m\u001b[0m\n\u001b[0;32m--> 681\u001b[0;31m             \u001b[0mdata\u001b[0m \u001b[0;34m=\u001b[0m \u001b[0mself\u001b[0m\u001b[0;34m.\u001b[0m\u001b[0m_next_data\u001b[0m\u001b[0;34m(\u001b[0m\u001b[0;34m)\u001b[0m\u001b[0;34m\u001b[0m\u001b[0;34m\u001b[0m\u001b[0m\n\u001b[0m\u001b[1;32m    682\u001b[0m             \u001b[0mself\u001b[0m\u001b[0;34m.\u001b[0m\u001b[0m_num_yielded\u001b[0m \u001b[0;34m+=\u001b[0m \u001b[0;36m1\u001b[0m\u001b[0;34m\u001b[0m\u001b[0;34m\u001b[0m\u001b[0m\n\u001b[1;32m    683\u001b[0m             \u001b[0;32mif\u001b[0m \u001b[0mself\u001b[0m\u001b[0;34m.\u001b[0m\u001b[0m_dataset_kind\u001b[0m \u001b[0;34m==\u001b[0m \u001b[0m_DatasetKind\u001b[0m\u001b[0;34m.\u001b[0m\u001b[0mIterable\u001b[0m \u001b[0;32mand\u001b[0m\u001b[0;31m \u001b[0m\u001b[0;31m\\\u001b[0m\u001b[0;34m\u001b[0m\u001b[0;34m\u001b[0m\u001b[0m\n",
            "\u001b[0;32m/usr/local/lib/python3.8/dist-packages/torch/utils/data/dataloader.py\u001b[0m in \u001b[0;36m_next_data\u001b[0;34m(self)\u001b[0m\n\u001b[1;32m    719\u001b[0m     \u001b[0;32mdef\u001b[0m \u001b[0m_next_data\u001b[0m\u001b[0;34m(\u001b[0m\u001b[0mself\u001b[0m\u001b[0;34m)\u001b[0m\u001b[0;34m:\u001b[0m\u001b[0;34m\u001b[0m\u001b[0;34m\u001b[0m\u001b[0m\n\u001b[1;32m    720\u001b[0m         \u001b[0mindex\u001b[0m \u001b[0;34m=\u001b[0m \u001b[0mself\u001b[0m\u001b[0;34m.\u001b[0m\u001b[0m_next_index\u001b[0m\u001b[0;34m(\u001b[0m\u001b[0;34m)\u001b[0m  \u001b[0;31m# may raise StopIteration\u001b[0m\u001b[0;34m\u001b[0m\u001b[0;34m\u001b[0m\u001b[0m\n\u001b[0;32m--> 721\u001b[0;31m         \u001b[0mdata\u001b[0m \u001b[0;34m=\u001b[0m \u001b[0mself\u001b[0m\u001b[0;34m.\u001b[0m\u001b[0m_dataset_fetcher\u001b[0m\u001b[0;34m.\u001b[0m\u001b[0mfetch\u001b[0m\u001b[0;34m(\u001b[0m\u001b[0mindex\u001b[0m\u001b[0;34m)\u001b[0m  \u001b[0;31m# may raise StopIteration\u001b[0m\u001b[0;34m\u001b[0m\u001b[0;34m\u001b[0m\u001b[0m\n\u001b[0m\u001b[1;32m    722\u001b[0m         \u001b[0;32mif\u001b[0m \u001b[0mself\u001b[0m\u001b[0;34m.\u001b[0m\u001b[0m_pin_memory\u001b[0m\u001b[0;34m:\u001b[0m\u001b[0;34m\u001b[0m\u001b[0;34m\u001b[0m\u001b[0m\n\u001b[1;32m    723\u001b[0m             \u001b[0mdata\u001b[0m \u001b[0;34m=\u001b[0m \u001b[0m_utils\u001b[0m\u001b[0;34m.\u001b[0m\u001b[0mpin_memory\u001b[0m\u001b[0;34m.\u001b[0m\u001b[0mpin_memory\u001b[0m\u001b[0;34m(\u001b[0m\u001b[0mdata\u001b[0m\u001b[0;34m,\u001b[0m \u001b[0mself\u001b[0m\u001b[0;34m.\u001b[0m\u001b[0m_pin_memory_device\u001b[0m\u001b[0;34m)\u001b[0m\u001b[0;34m\u001b[0m\u001b[0;34m\u001b[0m\u001b[0m\n",
            "\u001b[0;32m/usr/local/lib/python3.8/dist-packages/torch/utils/data/_utils/fetch.py\u001b[0m in \u001b[0;36mfetch\u001b[0;34m(self, possibly_batched_index)\u001b[0m\n\u001b[1;32m     47\u001b[0m     \u001b[0;32mdef\u001b[0m \u001b[0mfetch\u001b[0m\u001b[0;34m(\u001b[0m\u001b[0mself\u001b[0m\u001b[0;34m,\u001b[0m \u001b[0mpossibly_batched_index\u001b[0m\u001b[0;34m)\u001b[0m\u001b[0;34m:\u001b[0m\u001b[0;34m\u001b[0m\u001b[0;34m\u001b[0m\u001b[0m\n\u001b[1;32m     48\u001b[0m         \u001b[0;32mif\u001b[0m \u001b[0mself\u001b[0m\u001b[0;34m.\u001b[0m\u001b[0mauto_collation\u001b[0m\u001b[0;34m:\u001b[0m\u001b[0;34m\u001b[0m\u001b[0;34m\u001b[0m\u001b[0m\n\u001b[0;32m---> 49\u001b[0;31m             \u001b[0mdata\u001b[0m \u001b[0;34m=\u001b[0m \u001b[0;34m[\u001b[0m\u001b[0mself\u001b[0m\u001b[0;34m.\u001b[0m\u001b[0mdataset\u001b[0m\u001b[0;34m[\u001b[0m\u001b[0midx\u001b[0m\u001b[0;34m]\u001b[0m \u001b[0;32mfor\u001b[0m \u001b[0midx\u001b[0m \u001b[0;32min\u001b[0m \u001b[0mpossibly_batched_index\u001b[0m\u001b[0;34m]\u001b[0m\u001b[0;34m\u001b[0m\u001b[0;34m\u001b[0m\u001b[0m\n\u001b[0m\u001b[1;32m     50\u001b[0m         \u001b[0;32melse\u001b[0m\u001b[0;34m:\u001b[0m\u001b[0;34m\u001b[0m\u001b[0;34m\u001b[0m\u001b[0m\n\u001b[1;32m     51\u001b[0m             \u001b[0mdata\u001b[0m \u001b[0;34m=\u001b[0m \u001b[0mself\u001b[0m\u001b[0;34m.\u001b[0m\u001b[0mdataset\u001b[0m\u001b[0;34m[\u001b[0m\u001b[0mpossibly_batched_index\u001b[0m\u001b[0;34m]\u001b[0m\u001b[0;34m\u001b[0m\u001b[0;34m\u001b[0m\u001b[0m\n",
            "\u001b[0;32m/usr/local/lib/python3.8/dist-packages/torch/utils/data/_utils/fetch.py\u001b[0m in \u001b[0;36m<listcomp>\u001b[0;34m(.0)\u001b[0m\n\u001b[1;32m     47\u001b[0m     \u001b[0;32mdef\u001b[0m \u001b[0mfetch\u001b[0m\u001b[0;34m(\u001b[0m\u001b[0mself\u001b[0m\u001b[0;34m,\u001b[0m \u001b[0mpossibly_batched_index\u001b[0m\u001b[0;34m)\u001b[0m\u001b[0;34m:\u001b[0m\u001b[0;34m\u001b[0m\u001b[0;34m\u001b[0m\u001b[0m\n\u001b[1;32m     48\u001b[0m         \u001b[0;32mif\u001b[0m \u001b[0mself\u001b[0m\u001b[0;34m.\u001b[0m\u001b[0mauto_collation\u001b[0m\u001b[0;34m:\u001b[0m\u001b[0;34m\u001b[0m\u001b[0;34m\u001b[0m\u001b[0m\n\u001b[0;32m---> 49\u001b[0;31m             \u001b[0mdata\u001b[0m \u001b[0;34m=\u001b[0m \u001b[0;34m[\u001b[0m\u001b[0mself\u001b[0m\u001b[0;34m.\u001b[0m\u001b[0mdataset\u001b[0m\u001b[0;34m[\u001b[0m\u001b[0midx\u001b[0m\u001b[0;34m]\u001b[0m \u001b[0;32mfor\u001b[0m \u001b[0midx\u001b[0m \u001b[0;32min\u001b[0m \u001b[0mpossibly_batched_index\u001b[0m\u001b[0;34m]\u001b[0m\u001b[0;34m\u001b[0m\u001b[0;34m\u001b[0m\u001b[0m\n\u001b[0m\u001b[1;32m     50\u001b[0m         \u001b[0;32melse\u001b[0m\u001b[0;34m:\u001b[0m\u001b[0;34m\u001b[0m\u001b[0;34m\u001b[0m\u001b[0m\n\u001b[1;32m     51\u001b[0m             \u001b[0mdata\u001b[0m \u001b[0;34m=\u001b[0m \u001b[0mself\u001b[0m\u001b[0;34m.\u001b[0m\u001b[0mdataset\u001b[0m\u001b[0;34m[\u001b[0m\u001b[0mpossibly_batched_index\u001b[0m\u001b[0;34m]\u001b[0m\u001b[0;34m\u001b[0m\u001b[0;34m\u001b[0m\u001b[0m\n",
            "\u001b[0;32m/usr/local/lib/python3.8/dist-packages/torch/utils/data/dataset.py\u001b[0m in \u001b[0;36m__getitem__\u001b[0;34m(self, idx)\u001b[0m\n\u001b[1;32m    288\u001b[0m         \u001b[0;32mif\u001b[0m \u001b[0misinstance\u001b[0m\u001b[0;34m(\u001b[0m\u001b[0midx\u001b[0m\u001b[0;34m,\u001b[0m \u001b[0mlist\u001b[0m\u001b[0;34m)\u001b[0m\u001b[0;34m:\u001b[0m\u001b[0;34m\u001b[0m\u001b[0;34m\u001b[0m\u001b[0m\n\u001b[1;32m    289\u001b[0m             \u001b[0;32mreturn\u001b[0m \u001b[0mself\u001b[0m\u001b[0;34m.\u001b[0m\u001b[0mdataset\u001b[0m\u001b[0;34m[\u001b[0m\u001b[0;34m[\u001b[0m\u001b[0mself\u001b[0m\u001b[0;34m.\u001b[0m\u001b[0mindices\u001b[0m\u001b[0;34m[\u001b[0m\u001b[0mi\u001b[0m\u001b[0;34m]\u001b[0m \u001b[0;32mfor\u001b[0m \u001b[0mi\u001b[0m \u001b[0;32min\u001b[0m \u001b[0midx\u001b[0m\u001b[0;34m]\u001b[0m\u001b[0;34m]\u001b[0m\u001b[0;34m\u001b[0m\u001b[0;34m\u001b[0m\u001b[0m\n\u001b[0;32m--> 290\u001b[0;31m         \u001b[0;32mreturn\u001b[0m \u001b[0mself\u001b[0m\u001b[0;34m.\u001b[0m\u001b[0mdataset\u001b[0m\u001b[0;34m[\u001b[0m\u001b[0mself\u001b[0m\u001b[0;34m.\u001b[0m\u001b[0mindices\u001b[0m\u001b[0;34m[\u001b[0m\u001b[0midx\u001b[0m\u001b[0;34m]\u001b[0m\u001b[0;34m]\u001b[0m\u001b[0;34m\u001b[0m\u001b[0;34m\u001b[0m\u001b[0m\n\u001b[0m\u001b[1;32m    291\u001b[0m \u001b[0;34m\u001b[0m\u001b[0m\n\u001b[1;32m    292\u001b[0m     \u001b[0;32mdef\u001b[0m \u001b[0m__len__\u001b[0m\u001b[0;34m(\u001b[0m\u001b[0mself\u001b[0m\u001b[0;34m)\u001b[0m\u001b[0;34m:\u001b[0m\u001b[0;34m\u001b[0m\u001b[0;34m\u001b[0m\u001b[0m\n",
            "\u001b[0;32m/usr/local/lib/python3.8/dist-packages/torchvision/datasets/folder.py\u001b[0m in \u001b[0;36m__getitem__\u001b[0;34m(self, index)\u001b[0m\n\u001b[1;32m    228\u001b[0m         \"\"\"\n\u001b[1;32m    229\u001b[0m         \u001b[0mpath\u001b[0m\u001b[0;34m,\u001b[0m \u001b[0mtarget\u001b[0m \u001b[0;34m=\u001b[0m \u001b[0mself\u001b[0m\u001b[0;34m.\u001b[0m\u001b[0msamples\u001b[0m\u001b[0;34m[\u001b[0m\u001b[0mindex\u001b[0m\u001b[0;34m]\u001b[0m\u001b[0;34m\u001b[0m\u001b[0;34m\u001b[0m\u001b[0m\n\u001b[0;32m--> 230\u001b[0;31m         \u001b[0msample\u001b[0m \u001b[0;34m=\u001b[0m \u001b[0mself\u001b[0m\u001b[0;34m.\u001b[0m\u001b[0mloader\u001b[0m\u001b[0;34m(\u001b[0m\u001b[0mpath\u001b[0m\u001b[0;34m)\u001b[0m\u001b[0;34m\u001b[0m\u001b[0;34m\u001b[0m\u001b[0m\n\u001b[0m\u001b[1;32m    231\u001b[0m         \u001b[0;32mif\u001b[0m \u001b[0mself\u001b[0m\u001b[0;34m.\u001b[0m\u001b[0mtransform\u001b[0m \u001b[0;32mis\u001b[0m \u001b[0;32mnot\u001b[0m \u001b[0;32mNone\u001b[0m\u001b[0;34m:\u001b[0m\u001b[0;34m\u001b[0m\u001b[0;34m\u001b[0m\u001b[0m\n\u001b[1;32m    232\u001b[0m             \u001b[0msample\u001b[0m \u001b[0;34m=\u001b[0m \u001b[0mself\u001b[0m\u001b[0;34m.\u001b[0m\u001b[0mtransform\u001b[0m\u001b[0;34m(\u001b[0m\u001b[0msample\u001b[0m\u001b[0;34m)\u001b[0m\u001b[0;34m\u001b[0m\u001b[0;34m\u001b[0m\u001b[0m\n",
            "\u001b[0;32m/usr/local/lib/python3.8/dist-packages/torchvision/datasets/folder.py\u001b[0m in \u001b[0;36mdefault_loader\u001b[0;34m(path)\u001b[0m\n\u001b[1;32m    267\u001b[0m         \u001b[0;32mreturn\u001b[0m \u001b[0maccimage_loader\u001b[0m\u001b[0;34m(\u001b[0m\u001b[0mpath\u001b[0m\u001b[0;34m)\u001b[0m\u001b[0;34m\u001b[0m\u001b[0;34m\u001b[0m\u001b[0m\n\u001b[1;32m    268\u001b[0m     \u001b[0;32melse\u001b[0m\u001b[0;34m:\u001b[0m\u001b[0;34m\u001b[0m\u001b[0;34m\u001b[0m\u001b[0m\n\u001b[0;32m--> 269\u001b[0;31m         \u001b[0;32mreturn\u001b[0m \u001b[0mpil_loader\u001b[0m\u001b[0;34m(\u001b[0m\u001b[0mpath\u001b[0m\u001b[0;34m)\u001b[0m\u001b[0;34m\u001b[0m\u001b[0;34m\u001b[0m\u001b[0m\n\u001b[0m\u001b[1;32m    270\u001b[0m \u001b[0;34m\u001b[0m\u001b[0m\n\u001b[1;32m    271\u001b[0m \u001b[0;34m\u001b[0m\u001b[0m\n",
            "\u001b[0;32m/usr/local/lib/python3.8/dist-packages/torchvision/datasets/folder.py\u001b[0m in \u001b[0;36mpil_loader\u001b[0;34m(path)\u001b[0m\n\u001b[1;32m    245\u001b[0m \u001b[0;32mdef\u001b[0m \u001b[0mpil_loader\u001b[0m\u001b[0;34m(\u001b[0m\u001b[0mpath\u001b[0m\u001b[0;34m:\u001b[0m \u001b[0mstr\u001b[0m\u001b[0;34m)\u001b[0m \u001b[0;34m->\u001b[0m \u001b[0mImage\u001b[0m\u001b[0;34m.\u001b[0m\u001b[0mImage\u001b[0m\u001b[0;34m:\u001b[0m\u001b[0;34m\u001b[0m\u001b[0;34m\u001b[0m\u001b[0m\n\u001b[1;32m    246\u001b[0m     \u001b[0;31m# open path as file to avoid ResourceWarning (https://github.com/python-pillow/Pillow/issues/835)\u001b[0m\u001b[0;34m\u001b[0m\u001b[0;34m\u001b[0m\u001b[0;34m\u001b[0m\u001b[0m\n\u001b[0;32m--> 247\u001b[0;31m     \u001b[0;32mwith\u001b[0m \u001b[0mopen\u001b[0m\u001b[0;34m(\u001b[0m\u001b[0mpath\u001b[0m\u001b[0;34m,\u001b[0m \u001b[0;34m\"rb\"\u001b[0m\u001b[0;34m)\u001b[0m \u001b[0;32mas\u001b[0m \u001b[0mf\u001b[0m\u001b[0;34m:\u001b[0m\u001b[0;34m\u001b[0m\u001b[0;34m\u001b[0m\u001b[0m\n\u001b[0m\u001b[1;32m    248\u001b[0m         \u001b[0mimg\u001b[0m \u001b[0;34m=\u001b[0m \u001b[0mImage\u001b[0m\u001b[0;34m.\u001b[0m\u001b[0mopen\u001b[0m\u001b[0;34m(\u001b[0m\u001b[0mf\u001b[0m\u001b[0;34m)\u001b[0m\u001b[0;34m\u001b[0m\u001b[0;34m\u001b[0m\u001b[0m\n\u001b[1;32m    249\u001b[0m         \u001b[0;32mreturn\u001b[0m \u001b[0mimg\u001b[0m\u001b[0;34m.\u001b[0m\u001b[0mconvert\u001b[0m\u001b[0;34m(\u001b[0m\u001b[0;34m\"RGB\"\u001b[0m\u001b[0;34m)\u001b[0m\u001b[0;34m\u001b[0m\u001b[0;34m\u001b[0m\u001b[0m\n",
            "\u001b[0;31mKeyboardInterrupt\u001b[0m: "
          ]
        }
      ],
      "source": [
        "model,accuracy1,loss1, val_acc1, val_loss1=train( model, train_loader, val_loader, criterion, optimizer,num_epochs=50)"
      ]
    },
    {
      "cell_type": "code",
      "source": [
        "import matplotlib.pyplot as plt\n",
        "\n",
        "plt.figure()\n",
        "plt.xlabel('epoch')\n",
        "plt.ylabel('Accuracy')\n",
        "plt.title('Accuracy plot')\n",
        "plt.plot(accuracy1,label='train accuracy')\n",
        "plt.plot(val_acc1,label='val accuracy')    \n",
        "plt.legend()"
      ],
      "metadata": {
        "id": "Tl2rj8d3ggqf"
      },
      "execution_count": null,
      "outputs": []
    },
    {
      "cell_type": "code",
      "source": [
        "import matplotlib.pyplot as plt\n",
        "\n",
        "plt.figure()\n",
        "plt.xlabel('epoch')\n",
        "plt.ylabel('Loss')\n",
        "plt.title('Loss plot')\n",
        "\n",
        "plt.plot(loss1,label='train loss')\n",
        "plt.plot(val_loss1,label='val loss')\n",
        "    \n",
        "plt.legend()"
      ],
      "metadata": {
        "id": "6sTAMjtlgg09"
      },
      "execution_count": null,
      "outputs": []
    },
    {
      "cell_type": "code",
      "source": [
        "model.eval() \n",
        "device = torch.device('cuda' if torch.cuda.is_available() else 'cpu')\n",
        "model = model.to(device)\n",
        "with torch.no_grad(): \n",
        "    correct = 0\n",
        "    total = 0\n",
        "    for data in test_loader:\n",
        "        images, labels = data[0].to(device), data[1].to(device)\n",
        "        outputs = model(images)\n",
        "        _, predicted = torch.max(outputs.data, 1)\n",
        "        total += labels.size(0)\n",
        "        correct += (predicted == labels).sum().item()\n",
        "    print('Test Accuracy of the model on the {} test images: {} %'\n",
        "        .format(total, (correct / total) * 100))"
      ],
      "metadata": {
        "id": "y8dqtG_Igt76"
      },
      "execution_count": null,
      "outputs": []
    },
    {
      "cell_type": "markdown",
      "metadata": {
        "id": "Lbwf-q279HMW"
      },
      "source": [
        "# Alexnet for Grocery dataset"
      ]
    },
    {
      "cell_type": "code",
      "execution_count": null,
      "metadata": {
        "id": "UdMJ8Akp-I2b"
      },
      "outputs": [],
      "source": [
        "import torch\n",
        "import torchvision.transforms as transforms\n",
        "import torchvision.datasets as datasets\n",
        "import torch.utils.data as td\n",
        "import numpy as np\n",
        "import matplotlib.pyplot as plt\n",
        "import torch.nn as nn\n",
        "import torch.nn.functional as F\n",
        "from matplotlib import image\n",
        "from matplotlib import pyplot\n",
        "import time\n",
        "import torch.optim as optim"
      ]
    },
    {
      "cell_type": "code",
      "execution_count": null,
      "metadata": {
        "colab": {
          "base_uri": "https://localhost:8080/"
        },
        "id": "VTeP6JUw9GZe",
        "outputId": "927cf54d-00d9-4a45-9316-3e793380fd49"
      },
      "outputs": [
        {
          "name": "stdout",
          "output_type": "stream",
          "text": [
            "Drive already mounted at /content/drive; to attempt to forcibly remount, call drive.mount(\"/content/drive\", force_remount=True).\n"
          ]
        }
      ],
      "source": [
        "from google.colab import drive\n",
        "drive.mount('/content/drive')"
      ]
    },
    {
      "cell_type": "code",
      "execution_count": null,
      "metadata": {
        "id": "LNSJKvSNJtFu"
      },
      "outputs": [],
      "source": [
        "def load_data_grocery_store(path, batch_size, input_size):\n",
        "    \n",
        "    transform_dict={'src':transforms.Compose([transforms.CenterCrop(224), transforms.RandomRotation(5), transforms.RandomHorizontalFlip(),\n",
        "                                              transforms.ToTensor(),transforms.Normalize(mean=[0.485, 0.456, 0.406], std=[0.229, 0.224, 0.225])])}\n",
        "    data1 = datasets.ImageFolder(root=path,transform=transform_dict['src'])\n",
        "    data_loader=td.DataLoader(data1,batch_size,shuffle=True,drop_last=False,num_workers=0)  \n",
        "    return data_loader\n",
        "\n",
        "train_loader2=load_data_grocery_store(path=r'/content/drive/MyDrive/Project/Dataset/Grocery_store_dataset/Train', batch_size=32, input_size=[64,64])\n",
        "test_loader2=load_data_grocery_store(path=r'/content/drive/MyDrive/Project/Dataset/Grocery_store_dataset/Test', batch_size=32, input_size=[64,64])\n",
        "val_loader2=load_data_grocery_store(path=r'/content/drive/MyDrive/Project/Dataset/Grocery_store_dataset/Val', batch_size=32, input_size=[64,64])"
      ]
    },
    {
      "cell_type": "code",
      "execution_count": null,
      "metadata": {
        "colab": {
          "base_uri": "https://localhost:8080/"
        },
        "id": "6De3b8VANuhQ",
        "outputId": "a85f9db3-3401-4b29-958c-fc3b9d21685f"
      },
      "outputs": [
        {
          "name": "stderr",
          "output_type": "stream",
          "text": [
            "Using cache found in /root/.cache/torch/hub/pytorch_vision_v0.10.0\n",
            "/usr/local/lib/python3.8/dist-packages/torchvision/models/_utils.py:208: UserWarning: The parameter 'pretrained' is deprecated since 0.13 and will be removed in 0.15, please use 'weights' instead.\n",
            "  warnings.warn(\n",
            "/usr/local/lib/python3.8/dist-packages/torchvision/models/_utils.py:223: UserWarning: Arguments other than a weight enum or `None` for 'weights' are deprecated since 0.13 and will be removed in 0.15. The current behavior is equivalent to passing `weights=AlexNet_Weights.IMAGENET1K_V1`. You can also use `weights=AlexNet_Weights.DEFAULT` to get the most up-to-date weights.\n",
            "  warnings.warn(msg)\n"
          ]
        }
      ],
      "source": [
        "model2 = model = torch.hub.load('pytorch/vision:v0.10.0', 'alexnet')\n",
        "optimizer2 = torch.optim.Adam(model2.parameters())\n",
        "criterion2 = nn.CrossEntropyLoss()"
      ]
    },
    {
      "cell_type": "code",
      "execution_count": null,
      "metadata": {
        "id": "NNDFYpT8-iHO"
      },
      "outputs": [],
      "source": [
        "def train( model, train_loader,val_loader, criterion, optimizer,num_epochs):\n",
        "      device = torch.device(\"cuda:0\" if torch.cuda.is_available() else \"cpu\")\n",
        "      print(\"Device: {}\".format(device))\n",
        "      model.to(device)\n",
        "      total_steps = len(train_loader)\n",
        "      t1 = time.time()\n",
        "      accuracy1 = []\n",
        "      loss1 = []\n",
        "      val_acc=[]\n",
        "      val_loss=[]\n",
        "      for epoch in range(num_epochs):\n",
        "          accu = 0\n",
        "          lss = 0\n",
        "          val_accu=0\n",
        "          valid_loss=0\n",
        "          for i,data in enumerate(train_loader):\n",
        "              images, labels = data[0].to(device), data[1].to(device)\n",
        "              # Forward pass\n",
        "              outputs = model(images)\n",
        "              loss = criterion(outputs, labels)\n",
        "              # Backprop and optimisation\n",
        "              optimizer.zero_grad()\n",
        "              loss.backward()\n",
        "              optimizer.step()\n",
        "              # Train accuracy\n",
        "              total = labels.size(0)\n",
        "              _,predicted = torch.max(outputs.data, 1)\n",
        "              correct = (predicted == labels).sum().item()\n",
        "              accu += (correct / total) * 100\n",
        "              lss += loss.item()\n",
        "          model.eval()  \n",
        "          for i, data in enumerate(val_loader):\n",
        "              val_images, val_labels = data[0].to(device), data[1].to(device)\n",
        "              outputs = model(val_images)\n",
        "              loss = criterion(outputs, val_labels)\n",
        "              # Val accuracy\n",
        "              total = val_labels.size(0)\n",
        "              _,predicted = torch.max(outputs.data, 1)\n",
        "              correct = (predicted == val_labels).sum().item()\n",
        "              val_accu += (correct / total) * 100\n",
        "              valid_loss += loss.item()\n",
        "          val_acc.append(val_accu/len(val_loader))\n",
        "          val_loss.append(valid_loss/len(val_loader))\n",
        "          accuracy1.append(accu/len(train_loader))\n",
        "          loss1.append(lss/len(train_loader))\n",
        "          \n",
        "          print('Epoch [{}/{}], Loss: {:.4f}, Accuracy: {:.2f}%, Validation Loss : {:.4f}, Validation Accuracy : {:.2f}%,'.format(epoch + 1, num_epochs,lss/len(train_loader) ,accu/len(train_loader), valid_loss/len(val_loader), val_accu/len(val_loader)))\n",
        "      print(\"######## Training Finished in {} seconds ###########\".format(time.time()-t1))\n",
        "      return model, accuracy1, loss1,val_acc,val_loss"
      ]
    },
    {
      "cell_type": "code",
      "execution_count": null,
      "metadata": {
        "colab": {
          "base_uri": "https://localhost:8080/"
        },
        "id": "3PutXhzuNyR-",
        "outputId": "387f7d5e-93a6-498d-e2b2-126534e8ca4e"
      },
      "outputs": [
        {
          "name": "stdout",
          "output_type": "stream",
          "text": [
            "Device: cuda:0\n",
            "Epoch [1/50], Loss: 4.0345, Accuracy: 9.35%, Validation Loss : 3.4863, Validation Accuracy : 4.90%,\n",
            "Epoch [2/50], Loss: 2.7891, Accuracy: 17.49%, Validation Loss : 2.8581, Validation Accuracy : 9.66%,\n",
            "Epoch [3/50], Loss: 2.3325, Accuracy: 28.44%, Validation Loss : 2.4888, Validation Accuracy : 23.48%,\n",
            "Epoch [4/50], Loss: 1.9742, Accuracy: 36.07%, Validation Loss : 2.1558, Validation Accuracy : 31.06%,\n",
            "Epoch [5/50], Loss: 1.6706, Accuracy: 45.75%, Validation Loss : 2.2595, Validation Accuracy : 32.37%,\n",
            "Epoch [6/50], Loss: 1.4160, Accuracy: 52.60%, Validation Loss : 1.6497, Validation Accuracy : 46.35%,\n",
            "Epoch [7/50], Loss: 1.2095, Accuracy: 57.72%, Validation Loss : 1.4987, Validation Accuracy : 49.34%,\n",
            "Epoch [8/50], Loss: 0.9998, Accuracy: 65.53%, Validation Loss : 1.2711, Validation Accuracy : 59.71%,\n",
            "Epoch [9/50], Loss: 1.0172, Accuracy: 66.91%, Validation Loss : 1.5075, Validation Accuracy : 53.46%,\n",
            "Epoch [10/50], Loss: 0.8638, Accuracy: 71.82%, Validation Loss : 1.4734, Validation Accuracy : 56.74%,\n",
            "Epoch [11/50], Loss: 0.8283, Accuracy: 73.14%, Validation Loss : 1.3773, Validation Accuracy : 61.24%,\n",
            "Epoch [12/50], Loss: 0.8065, Accuracy: 74.13%, Validation Loss : 1.6568, Validation Accuracy : 50.51%,\n",
            "Epoch [13/50], Loss: 0.7121, Accuracy: 76.29%, Validation Loss : 1.3094, Validation Accuracy : 61.96%,\n",
            "Epoch [14/50], Loss: 0.5751, Accuracy: 81.38%, Validation Loss : 1.3905, Validation Accuracy : 61.38%,\n",
            "Epoch [15/50], Loss: 0.5975, Accuracy: 80.22%, Validation Loss : 1.6059, Validation Accuracy : 57.97%,\n",
            "Epoch [16/50], Loss: 0.5901, Accuracy: 81.35%, Validation Loss : 1.3921, Validation Accuracy : 61.96%,\n",
            "Epoch [17/50], Loss: 0.4448, Accuracy: 85.58%, Validation Loss : 1.2869, Validation Accuracy : 65.95%,\n",
            "Epoch [18/50], Loss: 0.4903, Accuracy: 83.89%, Validation Loss : 1.4756, Validation Accuracy : 63.01%,\n",
            "Epoch [19/50], Loss: 0.3785, Accuracy: 87.58%, Validation Loss : 1.6733, Validation Accuracy : 64.08%,\n",
            "Epoch [20/50], Loss: 0.4604, Accuracy: 85.70%, Validation Loss : 1.2864, Validation Accuracy : 67.46%,\n",
            "Epoch [21/50], Loss: 0.4706, Accuracy: 84.85%, Validation Loss : 1.6181, Validation Accuracy : 65.95%,\n",
            "Epoch [22/50], Loss: 0.4790, Accuracy: 85.82%, Validation Loss : 1.3837, Validation Accuracy : 64.19%,\n",
            "Epoch [23/50], Loss: 0.3934, Accuracy: 88.65%, Validation Loss : 1.4546, Validation Accuracy : 63.85%,\n",
            "Epoch [24/50], Loss: 0.4504, Accuracy: 86.56%, Validation Loss : 1.2538, Validation Accuracy : 71.48%,\n",
            "Epoch [25/50], Loss: 0.3294, Accuracy: 89.98%, Validation Loss : 1.4143, Validation Accuracy : 65.53%,\n",
            "Epoch [26/50], Loss: 0.4056, Accuracy: 87.75%, Validation Loss : 1.2765, Validation Accuracy : 69.83%,\n",
            "Epoch [27/50], Loss: 0.4484, Accuracy: 86.82%, Validation Loss : 1.2105, Validation Accuracy : 70.56%,\n",
            "Epoch [28/50], Loss: 0.3568, Accuracy: 90.01%, Validation Loss : 1.3279, Validation Accuracy : 69.07%,\n",
            "Epoch [29/50], Loss: 0.4357, Accuracy: 86.37%, Validation Loss : 1.3449, Validation Accuracy : 68.37%,\n",
            "Epoch [30/50], Loss: 0.3010, Accuracy: 90.97%, Validation Loss : 1.5375, Validation Accuracy : 66.11%,\n",
            "Epoch [31/50], Loss: 0.3389, Accuracy: 90.58%, Validation Loss : 1.3296, Validation Accuracy : 70.43%,\n",
            "Epoch [32/50], Loss: 0.2915, Accuracy: 91.82%, Validation Loss : 1.3492, Validation Accuracy : 69.99%,\n",
            "Epoch [33/50], Loss: 0.2985, Accuracy: 91.72%, Validation Loss : 1.6579, Validation Accuracy : 69.37%,\n",
            "Epoch [34/50], Loss: 0.3435, Accuracy: 91.38%, Validation Loss : 1.3208, Validation Accuracy : 70.14%,\n",
            "Epoch [35/50], Loss: 0.3960, Accuracy: 88.79%, Validation Loss : 1.3315, Validation Accuracy : 69.82%,\n",
            "Epoch [36/50], Loss: 0.2832, Accuracy: 92.48%, Validation Loss : 1.2338, Validation Accuracy : 72.20%,\n",
            "Epoch [37/50], Loss: 0.1991, Accuracy: 94.15%, Validation Loss : 1.6761, Validation Accuracy : 68.95%,\n",
            "Epoch [38/50], Loss: 0.2683, Accuracy: 91.35%, Validation Loss : 1.5819, Validation Accuracy : 68.78%,\n",
            "Epoch [39/50], Loss: 0.2942, Accuracy: 91.48%, Validation Loss : 1.4671, Validation Accuracy : 68.21%,\n",
            "Epoch [40/50], Loss: 0.3109, Accuracy: 90.77%, Validation Loss : 1.7010, Validation Accuracy : 66.87%,\n",
            "Epoch [41/50], Loss: 0.3262, Accuracy: 91.33%, Validation Loss : 1.6387, Validation Accuracy : 65.65%,\n",
            "Epoch [42/50], Loss: 0.2029, Accuracy: 93.99%, Validation Loss : 1.7113, Validation Accuracy : 68.36%,\n",
            "Epoch [43/50], Loss: 0.1962, Accuracy: 94.06%, Validation Loss : 1.6687, Validation Accuracy : 68.21%,\n",
            "Epoch [44/50], Loss: 0.5128, Accuracy: 87.57%, Validation Loss : 1.5429, Validation Accuracy : 66.91%,\n",
            "Epoch [45/50], Loss: 0.1663, Accuracy: 95.37%, Validation Loss : 1.4871, Validation Accuracy : 70.40%,\n",
            "Epoch [46/50], Loss: 0.2094, Accuracy: 94.36%, Validation Loss : 2.0317, Validation Accuracy : 64.68%,\n",
            "Epoch [47/50], Loss: 0.3088, Accuracy: 91.71%, Validation Loss : 1.5657, Validation Accuracy : 69.94%,\n",
            "Epoch [48/50], Loss: 0.3182, Accuracy: 91.36%, Validation Loss : 1.2559, Validation Accuracy : 70.41%,\n",
            "Epoch [49/50], Loss: 0.2894, Accuracy: 92.11%, Validation Loss : 1.6087, Validation Accuracy : 69.71%,\n",
            "Epoch [50/50], Loss: 0.4139, Accuracy: 89.13%, Validation Loss : 1.6815, Validation Accuracy : 65.81%,\n",
            "######## Training Finished in 917.14603972435 seconds ###########\n"
          ]
        }
      ],
      "source": [
        "model2,accuracy2,loss2,val_acc2,val_loss2=train( model2, train_loader2,val_loader2, criterion2, optimizer2,num_epochs=50)"
      ]
    },
    {
      "cell_type": "code",
      "execution_count": null,
      "metadata": {
        "colab": {
          "base_uri": "https://localhost:8080/",
          "height": 312
        },
        "id": "7UnQXF-a0FMu",
        "outputId": "05d79b00-a429-4218-d0cd-16ba2bdfe046"
      },
      "outputs": [
        {
          "data": {
            "text/plain": [
              "<matplotlib.legend.Legend at 0x7fe218be0d90>"
            ]
          },
          "execution_count": 30,
          "metadata": {},
          "output_type": "execute_result"
        },
        {
          "data": {
            "image/png": "[encoded data removed]",
            "text/plain": [
              "<Figure size 432x288 with 1 Axes>"
            ]
          },
          "metadata": {},
          "output_type": "display_data"
        }
      ],
      "source": [
        "import matplotlib.pyplot as plt\n",
        "\n",
        "plt.figure()\n",
        "plt.xlabel('epoch')\n",
        "plt.ylabel('Accuracy')\n",
        "plt.title('Accuracy plot')\n",
        "plt.plot(accuracy2,label='train accuracy')\n",
        "plt.plot(val_acc2,label='val accuracy')    \n",
        "plt.legend()"
      ]
    },
    {
      "cell_type": "code",
      "execution_count": null,
      "metadata": {
        "colab": {
          "base_uri": "https://localhost:8080/",
          "height": 312
        },
        "id": "ovoYmaQZ0L4G",
        "outputId": "65645d9c-3b2c-4261-8ac7-7e04092c4233"
      },
      "outputs": [
        {
          "data": {
            "text/plain": [
              "<matplotlib.legend.Legend at 0x7fe2301bbe50>"
            ]
          },
          "execution_count": 31,
          "metadata": {},
          "output_type": "execute_result"
        },
        {
          "data": {
            "image/png": "[encoded data removed]",
            "text/plain": [
              "<Figure size 432x288 with 1 Axes>"
            ]
          },
          "metadata": {},
          "output_type": "display_data"
        }
      ],
      "source": [
        "import matplotlib.pyplot as plt\n",
        "\n",
        "plt.figure()\n",
        "plt.xlabel('epoch')\n",
        "plt.ylabel('Loss')\n",
        "plt.title('Loss plot')\n",
        "\n",
        "plt.plot(loss2,label='train loss')\n",
        "plt.plot(val_loss2,label='val loss')\n",
        "    \n",
        "plt.legend()"
      ]
    },
    {
      "cell_type": "code",
      "execution_count": null,
      "metadata": {
        "colab": {
          "base_uri": "https://localhost:8080/"
        },
        "id": "3v5Dpc_Z0nZR",
        "outputId": "92e79d71-a28c-4ae1-9a85-3c2d8f800010"
      },
      "outputs": [
        {
          "name": "stdout",
          "output_type": "stream",
          "text": [
            "Test Accuracy of the model on the 2423 test images: 72.34832851836566 %\n"
          ]
        }
      ],
      "source": [
        "model2.eval() \n",
        "device = torch.device('cuda' if torch.cuda.is_available() else 'cpu')\n",
        "model2 = model2.to(device)\n",
        "with torch.no_grad(): \n",
        "    correct = 0\n",
        "    total = 0\n",
        "    for data in test_loader2:\n",
        "        images, labels = data[0].to(device), data[1].to(device)\n",
        "        outputs = model2(images)\n",
        "        _, predicted = torch.max(outputs.data, 1)\n",
        "        total += labels.size(0)\n",
        "        correct += (predicted == labels).sum().item()\n",
        "    print('Test Accuracy of the model on the {} test images: {} %'\n",
        "        .format(total, (correct / total) * 100))"
      ]
    },
    {
      "cell_type": "markdown",
      "metadata": {
        "id": "a2IGd6XRuLOT"
      },
      "source": [
        "# Hyperparameter tuning for alexnet model with freiburg dataset"
      ]
    },
    {
      "cell_type": "markdown",
      "metadata": {
        "id": "04s_wwPzxvsD"
      },
      "source": [
        "1) Learning rate"
      ]
    },
    {
      "cell_type": "code",
      "execution_count": null,
      "metadata": {
        "colab": {
          "base_uri": "https://localhost:8080/",
          "height": 235
        },
        "id": "mq8zBIPauJ0e",
        "outputId": "c7324229-50ae-432b-d58f-d278905811bb"
      },
      "outputs": [
        {
          "ename": "NameError",
          "evalue": "ignored",
          "output_type": "error",
          "traceback": [
            "\u001b[0;31m---------------------------------------------------------------------------\u001b[0m",
            "\u001b[0;31mNameError\u001b[0m                                 Traceback (most recent call last)",
            "\u001b[0;32m<ipython-input-1-f156d6c50c6a>\u001b[0m in \u001b[0;36m<module>\u001b[0;34m\u001b[0m\n\u001b[1;32m      3\u001b[0m \u001b[0mtrain_loss_hyper_parameters\u001b[0m \u001b[0;34m=\u001b[0m \u001b[0;34m{\u001b[0m\u001b[0;34m}\u001b[0m\u001b[0;34m\u001b[0m\u001b[0;34m\u001b[0m\u001b[0m\n\u001b[1;32m      4\u001b[0m \u001b[0mtrain_acc_hyper_parameters\u001b[0m\u001b[0;34m=\u001b[0m\u001b[0;34m{\u001b[0m\u001b[0;34m}\u001b[0m\u001b[0;34m\u001b[0m\u001b[0;34m\u001b[0m\u001b[0m\n\u001b[0;32m----> 5\u001b[0;31m \u001b[0mdevice\u001b[0m \u001b[0;34m=\u001b[0m \u001b[0mtorch\u001b[0m\u001b[0;34m.\u001b[0m\u001b[0mdevice\u001b[0m\u001b[0;34m(\u001b[0m\u001b[0;34m\"cuda:0\"\u001b[0m \u001b[0;32mif\u001b[0m \u001b[0mtorch\u001b[0m\u001b[0;34m.\u001b[0m\u001b[0mcuda\u001b[0m\u001b[0;34m.\u001b[0m\u001b[0mis_available\u001b[0m\u001b[0;34m(\u001b[0m\u001b[0;34m)\u001b[0m \u001b[0;32melse\u001b[0m \u001b[0;34m\"cpu\"\u001b[0m\u001b[0;34m)\u001b[0m\u001b[0;34m\u001b[0m\u001b[0;34m\u001b[0m\u001b[0m\n\u001b[0m\u001b[1;32m      6\u001b[0m \u001b[0;34m\u001b[0m\u001b[0m\n\u001b[1;32m      7\u001b[0m \u001b[0;32mfor\u001b[0m \u001b[0mlearning_rate\u001b[0m \u001b[0;32min\u001b[0m \u001b[0mhyper_parameters\u001b[0m\u001b[0;34m[\u001b[0m\u001b[0;34m\"learning_rate\"\u001b[0m\u001b[0;34m]\u001b[0m\u001b[0;34m:\u001b[0m\u001b[0;34m\u001b[0m\u001b[0;34m\u001b[0m\u001b[0m\n",
            "\u001b[0;31mNameError\u001b[0m: name 'torch' is not defined"
          ]
        }
      ],
      "source": [
        "hyper_parameters={\"learning_rate\":[0.01,0.001,0.0001]}\n",
        "l=[\"lr0.01\",\"lr0.001\",\"lr0.0001\"]\n",
        "train_loss_hyper_parameters = {}\n",
        "train_acc_hyper_parameters={}\n",
        "device = torch.device(\"cuda:0\" if torch.cuda.is_available() else \"cpu\")\n",
        "for learning_rate in hyper_parameters[\"learning_rate\"]:\n",
        "    print(f'Results of the learning rate = {learning_rate}')\n",
        "nested_list=list(hyper_parameters.values())\n",
        "list_hyper=nested_list[0]\n",
        "for i in range(0,len(list_hyper)):\n",
        "  model_hyper=model = torch.hub.load('pytorch/vision:v0.10.0', 'alexnet')\n",
        "  model_hyper.to(device)\n",
        "  optimizer_hyper= torch.optim.Adam(model_hyper.parameters(), lr=list_hyper[i])\n",
        "  criterion_hyper=nn.CrossEntropyLoss()\n",
        "  train_loader_hyper,test_loader_hyper,val_loader_hyper=load_data(path=r'/content/drive/MyDrive/Project/Dataset/freiburg_dataset', \n",
        "                                              test_split=0.2,val_split= 0.2,batch_size=16, input_size=[256,256])  \n",
        "  print('Training with Learning Rate {}'.format(list_hyper[i]))\n",
        "  model_hyper,train_loss_hyper,train_accuracy_hyper,val_acc,val_loss = train(model_hyper,train_loader_hyper,val_loader_hyper,criterion_hyper,optimizer_hyper,10)\n",
        "  train_loss_hyper_parameters[l[i]]=train_loss_hyper\n",
        "  train_acc_hyper_parameters[l[i]]=train_accuracy_hyper"
      ]
    },
    {
      "cell_type": "code",
      "execution_count": null,
      "metadata": {
        "id": "dp5SSeykxLkv"
      },
      "outputs": [],
      "source": [
        "import matplotlib.pyplot as plt\n",
        "\n",
        "num_epochs= 20\n",
        "epochs = [i for i in range(num_epochs)]\n",
        "plt.figure()\n",
        "plt.xlabel('epoch')\n",
        "plt.ylabel('Loss')\n",
        "plt.title('Loss plot')\n",
        "\n",
        "for learning_rate in hyper_parameters[\"learning_rate\"]:\n",
        "    plt.plot(epochs,train_loss_hyper_parameters[f'lr{learning_rate}'],label=f'learning rate: {learning_rate}')\n",
        "    \n",
        "plt.legend()"
      ]
    },
    {
      "cell_type": "code",
      "execution_count": null,
      "metadata": {
        "id": "zDkYU0Oe1CR6"
      },
      "outputs": [],
      "source": [
        "num_epochs= 20\n",
        "epochs = [i for i in range(num_epochs)]\n",
        "plt.figure()\n",
        "plt.xlabel('Epoch')\n",
        "plt.ylabel('Accuracy')\n",
        "plt.title('Accuracy plot')\n",
        "\n",
        "for learning_rate in hyper_parameters[\"learning_rate\"]:\n",
        "    plt.plot(epochs,train_acc_hyper_parameters[f'lr{learning_rate}'],label=f'learning rate: {learning_rate}')\n",
        "    \n",
        "plt.legend()"
      ]
    },
    {
      "cell_type": "markdown",
      "metadata": {
        "id": "9DxdPwhbx0mo"
      },
      "source": [
        "2) Batch size"
      ]
    },
    {
      "cell_type": "code",
      "execution_count": null,
      "metadata": {
        "colab": {
          "base_uri": "https://localhost:8080/",
          "height": 790
        },
        "id": "shN5xM1UyHSi",
        "outputId": "f908047a-3f6c-4045-c5f1-1bd24a6e72d2"
      },
      "outputs": [
        {
          "name": "stdout",
          "output_type": "stream",
          "text": [
            "Results of the batch size = 16\n",
            "Results of the batch size = 32\n",
            "Results of the batch size = 64\n",
            "Results of the batch size = 128\n"
          ]
        },
        {
          "name": "stderr",
          "output_type": "stream",
          "text": [
            "Using cache found in /root/.cache/torch/hub/pytorch_vision_v0.10.0\n"
          ]
        },
        {
          "name": "stdout",
          "output_type": "stream",
          "text": [
            "Training with Batch Size 16\n",
            "Device: cuda:0\n",
            "Epoch [1/40], Loss: 3.4871, Accuracy: 5.48%, Validation Loss : 3.1978, Validation Accuracy : 4.13%,\n",
            "Epoch [2/40], Loss: 3.2013, Accuracy: 6.12%, Validation Loss : 3.1896, Validation Accuracy : 6.45%,\n",
            "Epoch [3/40], Loss: 3.1874, Accuracy: 5.67%, Validation Loss : 3.1820, Validation Accuracy : 5.77%,\n",
            "Epoch [4/40], Loss: 3.1718, Accuracy: 5.89%, Validation Loss : 3.1758, Validation Accuracy : 6.96%,\n",
            "Epoch [5/40], Loss: 3.1719, Accuracy: 6.47%, Validation Loss : 3.1635, Validation Accuracy : 6.98%,\n",
            "Epoch [6/40], Loss: 3.1680, Accuracy: 6.55%, Validation Loss : 3.1711, Validation Accuracy : 7.00%,\n",
            "Epoch [7/40], Loss: 3.1665, Accuracy: 6.91%, Validation Loss : 3.1674, Validation Accuracy : 7.00%,\n",
            "Epoch [8/40], Loss: 3.1672, Accuracy: 6.58%, Validation Loss : 3.1731, Validation Accuracy : 6.98%,\n",
            "Epoch [9/40], Loss: 3.1650, Accuracy: 7.09%, Validation Loss : 3.1635, Validation Accuracy : 6.96%,\n",
            "Epoch [10/40], Loss: 3.1631, Accuracy: 6.45%, Validation Loss : 3.1692, Validation Accuracy : 7.00%,\n",
            "Epoch [11/40], Loss: 3.1640, Accuracy: 7.14%, Validation Loss : 3.1637, Validation Accuracy : 6.98%,\n",
            "Epoch [12/40], Loss: 3.1619, Accuracy: 6.82%, Validation Loss : 3.1648, Validation Accuracy : 6.96%,\n",
            "Epoch [13/40], Loss: 3.1616, Accuracy: 7.02%, Validation Loss : 3.1696, Validation Accuracy : 6.96%,\n",
            "Epoch [14/40], Loss: 3.1602, Accuracy: 7.15%, Validation Loss : 3.1652, Validation Accuracy : 7.06%,\n",
            "Epoch [15/40], Loss: 3.1619, Accuracy: 6.18%, Validation Loss : 3.1617, Validation Accuracy : 6.96%,\n",
            "Epoch [16/40], Loss: 3.1604, Accuracy: 6.99%, Validation Loss : 3.1689, Validation Accuracy : 6.96%,\n",
            "Epoch [17/40], Loss: 3.1613, Accuracy: 7.22%, Validation Loss : 3.1610, Validation Accuracy : 6.98%,\n"
          ]
        },
        {
          "ename": "KeyboardInterrupt",
          "evalue": "ignored",
          "output_type": "error",
          "traceback": [
            "\u001b[0;31m---------------------------------------------------------------------------\u001b[0m",
            "\u001b[0;31mKeyboardInterrupt\u001b[0m                         Traceback (most recent call last)",
            "\u001b[0;32m<ipython-input-5-380594520f3d>\u001b[0m in \u001b[0;36m<module>\u001b[0;34m\u001b[0m\n\u001b[1;32m     19\u001b[0m   \u001b[0;31m############ Call the train function ###########\u001b[0m\u001b[0;34m\u001b[0m\u001b[0;34m\u001b[0m\u001b[0;34m\u001b[0m\u001b[0m\n\u001b[1;32m     20\u001b[0m   \u001b[0mprint\u001b[0m\u001b[0;34m(\u001b[0m\u001b[0;34m'Training with Batch Size {}'\u001b[0m\u001b[0;34m.\u001b[0m\u001b[0mformat\u001b[0m\u001b[0;34m(\u001b[0m\u001b[0mlist_hyper2\u001b[0m\u001b[0;34m[\u001b[0m\u001b[0mi\u001b[0m\u001b[0;34m]\u001b[0m\u001b[0;34m)\u001b[0m\u001b[0;34m)\u001b[0m\u001b[0;34m\u001b[0m\u001b[0;34m\u001b[0m\u001b[0m\n\u001b[0;32m---> 21\u001b[0;31m   \u001b[0mmodel_hyper2\u001b[0m\u001b[0;34m,\u001b[0m\u001b[0mtrain_loss_hyper2\u001b[0m\u001b[0;34m,\u001b[0m\u001b[0mtrain_accuracy_hyper2\u001b[0m\u001b[0;34m,\u001b[0m\u001b[0mval_acc\u001b[0m\u001b[0;34m,\u001b[0m\u001b[0mval_loss\u001b[0m \u001b[0;34m=\u001b[0m \u001b[0mtrain\u001b[0m\u001b[0;34m(\u001b[0m\u001b[0mmodel_hyper2\u001b[0m\u001b[0;34m,\u001b[0m\u001b[0mtrain_loader_hyper2\u001b[0m\u001b[0;34m,\u001b[0m\u001b[0mval_loader_hyper2\u001b[0m\u001b[0;34m,\u001b[0m\u001b[0mcriterion_hyper2\u001b[0m\u001b[0;34m,\u001b[0m\u001b[0moptimizer_hyper2\u001b[0m\u001b[0;34m,\u001b[0m\u001b[0;36m40\u001b[0m\u001b[0;34m)\u001b[0m\u001b[0;34m\u001b[0m\u001b[0;34m\u001b[0m\u001b[0m\n\u001b[0m\u001b[1;32m     22\u001b[0m \u001b[0;31m############ Store train_loss, and train_accuracy in the defined dictionaries ###########\u001b[0m\u001b[0;34m\u001b[0m\u001b[0;34m\u001b[0m\u001b[0;34m\u001b[0m\u001b[0m\n\u001b[1;32m     23\u001b[0m   \u001b[0mtrain_loss_hyper_parameters2\u001b[0m\u001b[0;34m[\u001b[0m\u001b[0mb\u001b[0m\u001b[0;34m[\u001b[0m\u001b[0mi\u001b[0m\u001b[0;34m]\u001b[0m\u001b[0;34m]\u001b[0m\u001b[0;34m=\u001b[0m\u001b[0mtrain_loss_hyper2\u001b[0m\u001b[0;34m\u001b[0m\u001b[0;34m\u001b[0m\u001b[0m\n",
            "\u001b[0;32m<ipython-input-4-e3d785ce91c5>\u001b[0m in \u001b[0;36mtrain\u001b[0;34m(model, train_loader, val_loader, criterion, optimizer, num_epochs)\u001b[0m\n\u001b[1;32m     26\u001b[0m               \u001b[0mtotal\u001b[0m \u001b[0;34m=\u001b[0m \u001b[0mlabels\u001b[0m\u001b[0;34m.\u001b[0m\u001b[0msize\u001b[0m\u001b[0;34m(\u001b[0m\u001b[0;36m0\u001b[0m\u001b[0;34m)\u001b[0m\u001b[0;34m\u001b[0m\u001b[0;34m\u001b[0m\u001b[0m\n\u001b[1;32m     27\u001b[0m               \u001b[0m_\u001b[0m\u001b[0;34m,\u001b[0m\u001b[0mpredicted\u001b[0m \u001b[0;34m=\u001b[0m \u001b[0mtorch\u001b[0m\u001b[0;34m.\u001b[0m\u001b[0mmax\u001b[0m\u001b[0;34m(\u001b[0m\u001b[0moutputs\u001b[0m\u001b[0;34m.\u001b[0m\u001b[0mdata\u001b[0m\u001b[0;34m,\u001b[0m \u001b[0;36m1\u001b[0m\u001b[0;34m)\u001b[0m\u001b[0;34m\u001b[0m\u001b[0;34m\u001b[0m\u001b[0m\n\u001b[0;32m---> 28\u001b[0;31m               \u001b[0mcorrect\u001b[0m \u001b[0;34m=\u001b[0m \u001b[0;34m(\u001b[0m\u001b[0mpredicted\u001b[0m \u001b[0;34m==\u001b[0m \u001b[0mlabels\u001b[0m\u001b[0;34m)\u001b[0m\u001b[0;34m.\u001b[0m\u001b[0msum\u001b[0m\u001b[0;34m(\u001b[0m\u001b[0;34m)\u001b[0m\u001b[0;34m.\u001b[0m\u001b[0mitem\u001b[0m\u001b[0;34m(\u001b[0m\u001b[0;34m)\u001b[0m\u001b[0;34m\u001b[0m\u001b[0;34m\u001b[0m\u001b[0m\n\u001b[0m\u001b[1;32m     29\u001b[0m               \u001b[0maccu\u001b[0m \u001b[0;34m+=\u001b[0m \u001b[0;34m(\u001b[0m\u001b[0mcorrect\u001b[0m \u001b[0;34m/\u001b[0m \u001b[0mtotal\u001b[0m\u001b[0;34m)\u001b[0m \u001b[0;34m*\u001b[0m \u001b[0;36m100\u001b[0m\u001b[0;34m\u001b[0m\u001b[0;34m\u001b[0m\u001b[0m\n\u001b[1;32m     30\u001b[0m               \u001b[0mlss\u001b[0m \u001b[0;34m+=\u001b[0m \u001b[0mloss\u001b[0m\u001b[0;34m.\u001b[0m\u001b[0mitem\u001b[0m\u001b[0;34m(\u001b[0m\u001b[0;34m)\u001b[0m\u001b[0;34m\u001b[0m\u001b[0;34m\u001b[0m\u001b[0m\n",
            "\u001b[0;31mKeyboardInterrupt\u001b[0m: "
          ]
        }
      ],
      "source": [
        "hyper_parameters2={\"batch_size\":[16,32,64,128]}\n",
        "b=[\"b16\",\"b32\",\"b64\",\"b128\"]\n",
        "train_loss_hyper_parameters2 = {}\n",
        "train_acc_hyper_parameters2={}\n",
        "device = torch.device(\"cuda:0\" if torch.cuda.is_available() else \"cpu\")\n",
        "for batch_size in hyper_parameters2[\"batch_size\"]:\n",
        "    print(f'Results of the batch size = {batch_size}')\n",
        "    ######## Write your code here ##############\n",
        "nested_list2=list(hyper_parameters2.values())\n",
        "list_hyper2=nested_list2[0]\n",
        "for i in range(0,len(list_hyper2)):\n",
        "  model_hyper2=model = torch.hub.load('pytorch/vision:v0.10.0', 'alexnet')\n",
        "  model_hyper2.to(device)\n",
        "  optimizer_hyper2= torch.optim.Adam(model_hyper2.parameters(), lr=0.001)\n",
        "  criterion_hyper2=nn.CrossEntropyLoss()\n",
        "  ############ Load dataset ###########\n",
        "  train_loader_hyper2,test_loader_hyper2,val_loader_hyper2=load_data(path=r'/content/drive/MyDrive/Project/Dataset/freiburg_dataset', \n",
        "                                              test_split=0.2,val_split= 0.2,batch_size=list_hyper2[i], input_size=[256,256])\n",
        "  ############ Call the train function ###########\n",
        "  print('Training with Batch Size {}'.format(list_hyper2[i]))\n",
        "  model_hyper2,train_loss_hyper2,train_accuracy_hyper2,val_acc,val_loss = train(model_hyper2,train_loader_hyper2,val_loader_hyper2,criterion_hyper2,optimizer_hyper2,40)\n",
        "############ Store train_loss, and train_accuracy in the defined dictionaries ###########\n",
        "  train_loss_hyper_parameters2[b[i]]=train_loss_hyper2\n",
        "  train_acc_hyper_parameters2[b[i]]=train_accuracy_hyper2"
      ]
    },
    {
      "cell_type": "code",
      "execution_count": null,
      "metadata": {
        "id": "Ic6hnNSTzCat"
      },
      "outputs": [],
      "source": [
        "num_epochs= 40\n",
        "epochs = [i for i in range(num_epochs)]\n",
        "plt.figure()\n",
        "plt.xlabel('epoch')\n",
        "plt.ylabel('Loss')\n",
        "plt.title('Loss plot')\n",
        "\n",
        "for batch_size in hyper_parameters2[\"batch_size\"]:\n",
        "    plt.plot(epochs,train_loss_hyper_parameters2[f'b{batch_size}'],label=f'Batch Size: {batch_size}')\n",
        "    \n",
        "plt.legend()"
      ]
    },
    {
      "cell_type": "code",
      "execution_count": null,
      "metadata": {
        "id": "xxrDze_o1RWC"
      },
      "outputs": [],
      "source": [
        "num_epochs= 40\n",
        "epochs = [i for i in range(num_epochs)]\n",
        "plt.figure()\n",
        "plt.xlabel('Epoch')\n",
        "plt.ylabel('Accuracy')\n",
        "plt.title('Accuracy plot')\n",
        "\n",
        "for batch_size in hyper_parameters2[\"batch_size\"]:\n",
        "    plt.plot(epochs,train_acc_hyper_parameters2[f'b{batch_size}'],label=f'Batch Size: {batch_size}')\n",
        "    \n",
        "plt.legend()"
      ]
    },
    {
      "cell_type": "markdown",
      "metadata": {
        "id": "m5fcf27-zLe1"
      },
      "source": [
        "3) Loss Function"
      ]
    },
    {
      "cell_type": "code",
      "execution_count": null,
      "metadata": {
        "id": "mjhAiZZGzK_D"
      },
      "outputs": [],
      "source": [
        "hyper_parameters3={\"loss_function\":['neg_log_likelihood','cross_entropy']}\n",
        "lf=[\"lfnneg_log_likelihood\",\"lfncross_entropy\"]\n",
        "train_loss_hyper_parameters3 = {}\n",
        "train_acc_hyper_parameters3={}\n",
        "criterion_hypercross=nn.CrossEntropyLoss()\n",
        "criterion_hypernnloss=nn.NLLLoss()\n",
        "for loss_function in hyper_parameters3[\"loss_function\"]:\n",
        "    print(f'Results of the loss function = {loss_function}')\n",
        "    ######## Write your code here ##############\n",
        "nested_list3=list(hyper_parameters3.values())\n",
        "list_hyper3=nested_list3[0]\n",
        "for i in range(0,len(list_hyper3)):\n",
        "  model_hyper3=torch.hub.load('pytorch/vision:v0.10.0', 'alexnet')\n",
        "  optimizer_hyper3= torch.optim.Adam(model_hyper.parameters(), lr=0.001)\n",
        "  train_loader_hyper3,test_loader_hyper3,val_loader_hyper3=load_data(path=r'/content/drive/MyDrive/freiburg_dataset', \n",
        "                                              test_split=0.1,val_split= 0.1,batch_size=16, input_size=[64,64])\n",
        "  ############ Call the train function ###########\n",
        "  print('Training with Loss function {}'.format(list_hyper3[i]))\n",
        "  if i==0:\n",
        "   train_loss_hyper3,train_accuracy_hyper3,val_acc_hyper3,val_loss_hyper3 = train(model_hyper3,train_loader_hyper3,val_loader_hyper3,criterion_hyper3,optimizer_hyper3,30)\n",
        "  else:\n",
        "    train_loss_hyper3,train_accuracy_hyper3,val_acc_hyper3,val_loss_hyper3= train(model_hyper3,train_loader_hyper3,val_loader_hyper3,criterion_hyper3,optimizer_hyper3,30)\n",
        "############ Store train_loss, and train_accuracy in the defined dictionaries ###########\n",
        "  train_loss_hyper_parameters3[lf[i]]=train_loss_hyper3\n",
        "  train_acc_hyper_parameters3[lf[i]]=train_accuracy_hyper3"
      ]
    },
    {
      "cell_type": "code",
      "execution_count": null,
      "metadata": {
        "id": "5DEnd7E3zZCs"
      },
      "outputs": [],
      "source": [
        "num_epochs= 30\n",
        "epochs = [i for i in range(num_epochs)]\n",
        "plt.figure()\n",
        "plt.xlabel('Epoch')\n",
        "plt.ylabel('Loss')\n",
        "plt.title('Loss plot')\n",
        "\n",
        "for batch_size in hyper_parameters3[\"loss_function\"]:\n",
        "    plt.plot(epochs,train_loss_hyper_parameters3[f'lf{loss_function}'],label=f'Loss Funcrtion: {loss_function}')\n",
        "    \n",
        "plt.legend()"
      ]
    },
    {
      "cell_type": "code",
      "execution_count": null,
      "metadata": {
        "id": "EACvf_kD1UL9"
      },
      "outputs": [],
      "source": [
        "num_epochs= 30\n",
        "epochs = [i for i in range(num_epochs)]\n",
        "plt.figure()\n",
        "plt.xlabel('Epoch')\n",
        "plt.ylabel('Accuracy')\n",
        "plt.title('Accuracy plot')\n",
        "\n",
        "for batch_size in hyper_parameters3[\"loss_function\"]:\n",
        "    plt.plot(epochs,train_acc_hyper_parameters3[f'lf{loss_function}'],label=f'Loss Funcrtion: {loss_function}')\n",
        "    \n",
        "plt.legend()"
      ]
    }
  ],
  "metadata": {
    "accelerator": "GPU",
    "colab": {
      "provenance": []
    },
    "gpuClass": "standard",
    "kernelspec": {
      "display_name": "Python 3",
      "name": "python3"
    },
    "language_info": {
      "name": "python"
    }
  },
  "nbformat": 4,
  "nbformat_minor": 0
}